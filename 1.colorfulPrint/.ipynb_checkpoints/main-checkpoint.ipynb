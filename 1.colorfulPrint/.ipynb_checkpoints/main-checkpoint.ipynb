{
 "cells": [
  {
   "cell_type": "markdown",
   "id": "ca427dda",
   "metadata": {},
   "source": [
    "# Python控制台中输出彩色文本\n",
    "\n",
    "## 格式\n",
    "\n",
    "设置颜色开始 ：\\033[显示方式;前景色;背景色m\n",
    "\n",
    "## 说明\n",
    "\n",
    "### 前景色            背景色           颜色\n",
    "---------------------------------------\n",
    "30                40              黑色\n",
    "31                41              红色\n",
    "32                42              绿色\n",
    "33                43              黃色\n",
    "34                44              蓝色\n",
    "35                45              紫红色\n",
    "36                46              青蓝色\n",
    "37                47              白色\n",
    "### 显示方式           意义\n",
    "-------------------------\n",
    "0                终端默认设置\n",
    "1                高亮显示\n",
    "4                使用下划线\n",
    "5                闪烁\n",
    "7                反白显示\n",
    "8                不可见\n",
    "\n",
    "## 例子：\n",
    "\\033[1;31;40m    <!--1-高亮显示 31-前景色红色  40-背景色黑色-->\n",
    "\\033[0m          <!--采用终端默认设置，即取消颜色设置-->\n",
    "\n",
    "Reference: https://blog.51cto.com/wenyule/2838791"
   ]
  },
  {
   "cell_type": "code",
   "execution_count": 28,
   "id": "e79dbd30",
   "metadata": {},
   "outputs": [
    {
     "name": "stdout",
     "output_type": "stream",
     "text": [
      "\u001b[0;30;43m这是一段有黄色背景，黑色字体的文字。\n",
      "由于上一个打印没有“取消颜色设置”，所以这段个格式与上段相同。\u001b[0m\n",
      "由于上段末尾取消了颜色设置，这段的文本使用的配色方案是系统默认的。\n"
     ]
    }
   ],
   "source": [
    "# 设置颜色和取消颜色设置 \n",
    "# 设置颜色开始 ：\\033[显示方式;前景色;背景色m\n",
    "\n",
    "print('\\033[0;30;43m这是一段有黄色背景，黑色字体的文字。')\n",
    "print('由于上一个打印没有“取消颜色设置”，所以这段个格式与上段相同。\\033[0m')\n",
    "print('由于上段末尾取消了颜色设置，这段的文本使用的配色方案是系统默认的。')"
   ]
  },
  {
   "cell_type": "code",
   "execution_count": 29,
   "id": "c6e1314f",
   "metadata": {},
   "outputs": [
    {
     "name": "stdout",
     "output_type": "stream",
     "text": [
      "\u001b[1m这是一段高亮显示的文本\u001b[0m\n",
      "这是一段未高亮显示的文本\n"
     ]
    }
   ],
   "source": [
    "# 高亮\n",
    "# PS: 此处只显示为加粗，不知为何\n",
    "\n",
    "# 设置颜色开始 ：\\033[显示方式;前景色;背景色m\n",
    "print('\\033[1m这是一段高亮显示的文本\\033[0m')\n",
    "print('这是一段未高亮显示的文本')"
   ]
  },
  {
   "cell_type": "code",
   "execution_count": 30,
   "id": "d0e59bb5",
   "metadata": {},
   "outputs": [
    {
     "name": "stdout",
     "output_type": "stream",
     "text": [
      "\u001b[4m这是一段有下划线的文本.\u001b[0m\n",
      "这是一段无下划线的文本\n"
     ]
    }
   ],
   "source": [
    "# 下划线\n",
    "print('\\033[4m这是一段有下划线的文本.\\033[0m')\n",
    "print('这是一段无下划线的文本')"
   ]
  },
  {
   "cell_type": "code",
   "execution_count": 31,
   "id": "355f03df",
   "metadata": {},
   "outputs": [
    {
     "name": "stdout",
     "output_type": "stream",
     "text": [
      "\u001b[5m这是一段闪烁的文本。\u001b[0m\n",
      "这是一段普通文本。\n"
     ]
    }
   ],
   "source": [
    "# 闪烁\n",
    "# 此处只表现为加粗，不知为何\n",
    "print('\\033[5m这是一段闪烁的文本。\\033[0m')\n",
    "print('这是一段普通文本。')"
   ]
  },
  {
   "cell_type": "code",
   "execution_count": 32,
   "id": "42deffcb",
   "metadata": {},
   "outputs": [
    {
     "name": "stdout",
     "output_type": "stream",
     "text": [
      "\u001b[7m这是一段反白文本。\u001b[0m\n",
      "这是一段非反白文本。\n"
     ]
    }
   ],
   "source": [
    "# 反白显示\n",
    "print('\\033[7m这是一段反白文本。\\033[0m')\n",
    "print('这是一段非反白文本。')"
   ]
  },
  {
   "cell_type": "code",
   "execution_count": 33,
   "id": "301864e6",
   "metadata": {},
   "outputs": [
    {
     "name": "stdout",
     "output_type": "stream",
     "text": [
      "\u001b[8m这是一段打印了，又似乎没打印的文本。\u001b[0m\n"
     ]
    }
   ],
   "source": [
    "# 不可见模式\n",
    "print('\\033[8m这是一段打印了，又似乎没打印的文本。\\033[0m')\n",
    "# PS: 现在在notebook中没显示初效果，需在终端中才可见效果"
   ]
  },
  {
   "cell_type": "markdown",
   "id": "c85bd1de",
   "metadata": {},
   "source": [
    "# Thanks\n"
   ]
  }
 ],
 "metadata": {
  "kernelspec": {
   "display_name": "Python 3 (ipykernel)",
   "language": "python",
   "name": "python3"
  },
  "language_info": {
   "codemirror_mode": {
    "name": "ipython",
    "version": 3
   },
   "file_extension": ".py",
   "mimetype": "text/x-python",
   "name": "python",
   "nbconvert_exporter": "python",
   "pygments_lexer": "ipython3",
   "version": "3.10.7"
  }
 },
 "nbformat": 4,
 "nbformat_minor": 5
}
